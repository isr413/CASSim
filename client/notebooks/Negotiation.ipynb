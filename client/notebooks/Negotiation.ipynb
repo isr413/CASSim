{
 "cells": [
  {
   "cell_type": "code",
   "execution_count": 1,
   "id": "401c14d8",
   "metadata": {},
   "outputs": [],
   "source": [
    "import random as rng"
   ]
  },
  {
   "cell_type": "code",
   "execution_count": 2,
   "id": "295ceb09",
   "metadata": {},
   "outputs": [],
   "source": [
    "def init(n, receiver=False):\n",
    "    bits = list(range(1, 2**n))\n",
    "    if receiver:\n",
    "        bits.sort(key=lambda x: -x.bit_count())\n",
    "    else:\n",
    "        bits.sort(key=lambda x: x.bit_count())\n",
    "\n",
    "    out = []\n",
    "    for i in range(len(bits)):\n",
    "        min_rolls = (0, 0) # (success, utility)\n",
    "        for j in range(0, i):\n",
    "            if receiver and ((bits[i] & bits[j]) != bits[i]): continue\n",
    "            if (not receiver) and ((bits[i] & bits[j]) != bits[j]): continue\n",
    "            min_rolls = (max(min_rolls[0], out[j][1]), max(min_rolls[1], out[j][2]))\n",
    "        out.append((bits[i], rng.uniform(min_rolls[0], 1), rng.uniform(min_rolls[1], 1)))\n",
    "            \n",
    "    out = list(map(lambda x: (x[0], round(x[1], 6), round(x[2], 6), round(x[1]*x[2], 6)), out))\n",
    "    out.sort(key=lambda x: -x[-1])\n",
    "    return (out, rng.uniform(0, 1))"
   ]
  },
  {
   "cell_type": "code",
   "execution_count": 3,
   "id": "2f68a893",
   "metadata": {},
   "outputs": [],
   "source": [
    "def combine(r, s):\n",
    "    r_map = {}\n",
    "    for tup in r[0]:\n",
    "        r_map[tup[0]] = (tup[1], tup[2])\n",
    "    s_map = {}\n",
    "    for tup in s[0]:\n",
    "        s_map[tup[0]] = (tup[1], tup[2])\n",
    "    out = []\n",
    "    for i in range(1, len(r[0]) + 1):\n",
    "        spr, utr = r_map[i]\n",
    "        sps, uts = s_map[i]\n",
    "        out.append((i, round(spr * sps * utr, 6), round(spr * sps * uts, 6)))\n",
    "    return out"
   ]
  },
  {
   "cell_type": "code",
   "execution_count": 20,
   "id": "d50ccd06",
   "metadata": {},
   "outputs": [],
   "source": [
    "def apply(t, bits, sp, receiver=False):\n",
    "    out = []\n",
    "    for i in range(len(t[0])):\n",
    "        b, s, u, r = t[0][i]\n",
    "        if (not receiver) and ((bits & b) == bits):\n",
    "            out.append((b, s, u, round(s * sp * u, 6)))\n",
    "        elif receiver and ((bits & b) == b):\n",
    "            out.append((b, s, u, round(s * sp * u, 6)))\n",
    "        else:\n",
    "            out.append((b, s, u, r))\n",
    "    out.sort(key=lambda x: -x[-1])\n",
    "    return (out, t[1])"
   ]
  },
  {
   "cell_type": "code",
   "execution_count": 21,
   "id": "df956690",
   "metadata": {},
   "outputs": [
    {
     "data": {
      "text/plain": [
       "([(4, 0.997302, 0.976343, 0.973709),\n",
       "  (1, 0.999513, 0.944984, 0.944524),\n",
       "  (5, 0.913033, 0.920471, 0.840421),\n",
       "  (2, 0.990516, 0.750738, 0.743618),\n",
       "  (3, 0.911685, 0.729613, 0.665177),\n",
       "  (6, 0.989993, 0.632445, 0.626116),\n",
       "  (7, 0.793916, 0.411899, 0.327013)],\n",
       " 0.1231381557547283)"
      ]
     },
     "execution_count": 21,
     "metadata": {},
     "output_type": "execute_result"
    }
   ],
   "source": [
    "r = init(3, receiver=True)\n",
    "r"
   ]
  },
  {
   "cell_type": "code",
   "execution_count": 22,
   "id": "5e0ec76c",
   "metadata": {},
   "outputs": [
    {
     "data": {
      "text/plain": [
       "([(7, 0.949492, 0.942735, 0.895119),\n",
       "  (3, 0.931945, 0.921257, 0.858561),\n",
       "  (6, 0.94756, 0.88272, 0.83643),\n",
       "  (5, 0.849503, 0.650012, 0.552187),\n",
       "  (4, 0.815203, 0.615764, 0.501973),\n",
       "  (1, 0.368406, 0.553561, 0.203935),\n",
       "  (2, 0.138908, 0.365771, 0.050808)],\n",
       " 0.400307005943203)"
      ]
     },
     "execution_count": 22,
     "metadata": {},
     "output_type": "execute_result"
    }
   ],
   "source": [
    "s = init(3)\n",
    "s"
   ]
  },
  {
   "cell_type": "code",
   "execution_count": 23,
   "id": "722e7ae7",
   "metadata": {},
   "outputs": [
    {
     "data": {
      "text/plain": [
       "[(1, 0.347968, 0.203836),\n",
       " (2, 0.103294, 0.050327),\n",
       " (3, 0.619909, 0.782737),\n",
       " (4, 0.79377, 0.500618),\n",
       " (5, 0.71394, 0.504165),\n",
       " (6, 0.593283, 0.82806),\n",
       " (7, 0.310496, 0.71065)]"
      ]
     },
     "execution_count": 23,
     "metadata": {},
     "output_type": "execute_result"
    }
   ],
   "source": [
    "combine(r, s)"
   ]
  },
  {
   "cell_type": "code",
   "execution_count": 24,
   "id": "bd5e70f8",
   "metadata": {},
   "outputs": [
    {
     "data": {
      "text/plain": [
       "([(4, 0.997302, 0.976343, 0.924529),\n",
       "  (1, 0.999513, 0.944984, 0.896818),\n",
       "  (5, 0.913033, 0.920471, 0.797972),\n",
       "  (2, 0.990516, 0.750738, 0.706059),\n",
       "  (3, 0.911685, 0.729613, 0.63158),\n",
       "  (6, 0.989993, 0.632445, 0.594492),\n",
       "  (7, 0.793916, 0.411899, 0.310496)],\n",
       " 0.1231381557547283)"
      ]
     },
     "execution_count": 24,
     "metadata": {},
     "output_type": "execute_result"
    }
   ],
   "source": [
    "r = apply(r, s[0][0][0], s[0][0][1], receiver=True)\n",
    "r"
   ]
  },
  {
   "cell_type": "code",
   "execution_count": 25,
   "id": "9e2b36c3",
   "metadata": {},
   "outputs": [
    {
     "data": {
      "text/plain": [
       "([(7, 0.949492, 0.942735, 0.892704),\n",
       "  (3, 0.931945, 0.921257, 0.858561),\n",
       "  (6, 0.94756, 0.88272, 0.834173),\n",
       "  (5, 0.849503, 0.650012, 0.550697),\n",
       "  (4, 0.815203, 0.615764, 0.500618),\n",
       "  (1, 0.368406, 0.553561, 0.203935),\n",
       "  (2, 0.138908, 0.365771, 0.050808)],\n",
       " 0.400307005943203)"
      ]
     },
     "execution_count": 25,
     "metadata": {},
     "output_type": "execute_result"
    }
   ],
   "source": [
    "s = apply(s, r[0][0][0], r[0][0][1])\n",
    "s"
   ]
  },
  {
   "cell_type": "code",
   "execution_count": 26,
   "id": "dc0c8482",
   "metadata": {
    "scrolled": true
   },
   "outputs": [
    {
     "data": {
      "text/plain": [
       "([(4, 0.997302, 0.976343, 0.922648),\n",
       "  (1, 0.999513, 0.944984, 0.896818),\n",
       "  (5, 0.913033, 0.920471, 0.797972),\n",
       "  (2, 0.990516, 0.750738, 0.704623),\n",
       "  (3, 0.911685, 0.729613, 0.63158),\n",
       "  (6, 0.989993, 0.632445, 0.593283),\n",
       "  (7, 0.793916, 0.411899, 0.310496)],\n",
       " 0.1231381557547283)"
      ]
     },
     "execution_count": 26,
     "metadata": {},
     "output_type": "execute_result"
    }
   ],
   "source": [
    "r = apply(r, s[0][2][0], s[0][2][1], receiver=True)\n",
    "r"
   ]
  },
  {
   "cell_type": "code",
   "execution_count": 27,
   "id": "0b91b139",
   "metadata": {},
   "outputs": [
    {
     "data": {
      "text/plain": [
       "([(7, 0.949492, 0.942735, 0.88663),\n",
       "  (3, 0.931945, 0.921257, 0.850418),\n",
       "  (6, 0.94756, 0.88272, 0.828497),\n",
       "  (5, 0.849503, 0.650012, 0.550697),\n",
       "  (4, 0.815203, 0.615764, 0.500618),\n",
       "  (1, 0.368406, 0.553561, 0.203935),\n",
       "  (2, 0.138908, 0.365771, 0.050327)],\n",
       " 0.400307005943203)"
      ]
     },
     "execution_count": 27,
     "metadata": {},
     "output_type": "execute_result"
    }
   ],
   "source": [
    "s = apply(s, r[0][3][0], r[0][3][1])\n",
    "s"
   ]
  },
  {
   "cell_type": "code",
   "execution_count": 28,
   "id": "4ed0fa85",
   "metadata": {},
   "outputs": [
    {
     "data": {
      "text/plain": [
       "([(3, 0.931945, 0.921257, 0.850418),\n",
       "  (6, 0.94756, 0.88272, 0.828497),\n",
       "  (7, 0.949492, 0.942735, 0.817273),\n",
       "  (5, 0.849503, 0.650012, 0.504165),\n",
       "  (4, 0.815203, 0.615764, 0.500618),\n",
       "  (1, 0.368406, 0.553561, 0.203935),\n",
       "  (2, 0.138908, 0.365771, 0.050327)],\n",
       " 0.400307005943203)"
      ]
     },
     "execution_count": 28,
     "metadata": {},
     "output_type": "execute_result"
    }
   ],
   "source": [
    "s = apply(s, r[0][2][0], r[0][2][1])\n",
    "s"
   ]
  },
  {
   "cell_type": "code",
   "execution_count": 30,
   "id": "767d1cf7",
   "metadata": {},
   "outputs": [
    {
     "data": {
      "text/plain": [
       "([(4, 0.997302, 0.976343, 0.922648),\n",
       "  (1, 0.999513, 0.944984, 0.880244),\n",
       "  (5, 0.913033, 0.920471, 0.797972),\n",
       "  (2, 0.990516, 0.750738, 0.693011),\n",
       "  (3, 0.911685, 0.729613, 0.619909),\n",
       "  (6, 0.989993, 0.632445, 0.593283),\n",
       "  (7, 0.793916, 0.411899, 0.310496)],\n",
       " 0.1231381557547283)"
      ]
     },
     "execution_count": 30,
     "metadata": {},
     "output_type": "execute_result"
    }
   ],
   "source": [
    "r = apply(r, s[0][0][0], s[0][0][1], receiver=True)\n",
    "r"
   ]
  },
  {
   "cell_type": "code",
   "execution_count": null,
   "id": "c7739112",
   "metadata": {},
   "outputs": [],
   "source": []
  }
 ],
 "metadata": {
  "kernelspec": {
   "display_name": "Python 3 (ipykernel)",
   "language": "python",
   "name": "python3"
  },
  "language_info": {
   "codemirror_mode": {
    "name": "ipython",
    "version": 3
   },
   "file_extension": ".py",
   "mimetype": "text/x-python",
   "name": "python",
   "nbconvert_exporter": "python",
   "pygments_lexer": "ipython3",
   "version": "3.11.8"
  }
 },
 "nbformat": 4,
 "nbformat_minor": 5
}
